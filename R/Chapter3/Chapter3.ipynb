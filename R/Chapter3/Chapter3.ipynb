{
 "cells": [
  {
   "cell_type": "code",
   "execution_count": null,
   "id": "7c9bf027-7da0-43c0-8cf0-1ce9320eb46e",
   "metadata": {},
   "outputs": [],
   "source": []
  },
  {
   "cell_type": "markdown",
   "id": "bc9efd32-f856-493e-ac8e-ceb2fec3066a",
   "metadata": {},
   "source": [
    "## Simple Linear Regression"
   ]
  },
  {
   "cell_type": "code",
   "execution_count": null,
   "id": "7b59c668-6c4d-4ec8-9f0e-2e402ac784d5",
   "metadata": {},
   "outputs": [],
   "source": []
  },
  {
   "cell_type": "code",
   "execution_count": 1,
   "id": "332bd77e-5a6a-4633-abea-28532427c82b",
   "metadata": {},
   "outputs": [],
   "source": [
    "import pandas as pd\n",
    "import numpy as np\n",
    "import matplotlib.pyplot as plt\n",
    "from sklearn import linear_model # regressor\n",
    "import scipy.stats as stats # calc p_val\n",
    "import math"
   ]
  },
  {
   "cell_type": "markdown",
   "id": "3d1b9afd-47de-43b8-be47-9ae8b72fcc69",
   "metadata": {},
   "source": [
    "### Estimating Coefficients"
   ]
  },
  {
   "cell_type": "code",
   "execution_count": null,
   "id": "d57df8ae-40e9-429d-ac47-2c59a48a8e92",
   "metadata": {},
   "outputs": [],
   "source": []
  },
  {
   "cell_type": "code",
   "execution_count": 2,
   "id": "98ed9123-84f7-4f64-b8fb-cb4ff41f0738",
   "metadata": {},
   "outputs": [],
   "source": [
    "Advertising = pd.read_csv(\"Advertising.csv\", index_col =0)"
   ]
  },
  {
   "cell_type": "code",
   "execution_count": 3,
   "id": "ca8d28a4-bf76-4ea9-b911-7fbaa2edeb48",
   "metadata": {},
   "outputs": [
    {
     "data": {
      "text/html": [
       "<div>\n",
       "<style scoped>\n",
       "    .dataframe tbody tr th:only-of-type {\n",
       "        vertical-align: middle;\n",
       "    }\n",
       "\n",
       "    .dataframe tbody tr th {\n",
       "        vertical-align: top;\n",
       "    }\n",
       "\n",
       "    .dataframe thead th {\n",
       "        text-align: right;\n",
       "    }\n",
       "</style>\n",
       "<table border=\"1\" class=\"dataframe\">\n",
       "  <thead>\n",
       "    <tr style=\"text-align: right;\">\n",
       "      <th></th>\n",
       "      <th>TV</th>\n",
       "      <th>radio</th>\n",
       "      <th>newspaper</th>\n",
       "      <th>sales</th>\n",
       "    </tr>\n",
       "  </thead>\n",
       "  <tbody>\n",
       "    <tr>\n",
       "      <th>1</th>\n",
       "      <td>230.1</td>\n",
       "      <td>37.8</td>\n",
       "      <td>69.2</td>\n",
       "      <td>22.1</td>\n",
       "    </tr>\n",
       "    <tr>\n",
       "      <th>2</th>\n",
       "      <td>44.5</td>\n",
       "      <td>39.3</td>\n",
       "      <td>45.1</td>\n",
       "      <td>10.4</td>\n",
       "    </tr>\n",
       "  </tbody>\n",
       "</table>\n",
       "</div>"
      ],
      "text/plain": [
       "      TV  radio  newspaper  sales\n",
       "1  230.1   37.8       69.2   22.1\n",
       "2   44.5   39.3       45.1   10.4"
      ]
     },
     "execution_count": 3,
     "metadata": {},
     "output_type": "execute_result"
    }
   ],
   "source": [
    "Advertising.head(2)"
   ]
  },
  {
   "cell_type": "code",
   "execution_count": 4,
   "id": "8e6e8a98-17d5-4531-b850-81b4fd0ff4b3",
   "metadata": {},
   "outputs": [
    {
     "data": {
      "text/plain": [
       "(200, 4)"
      ]
     },
     "execution_count": 4,
     "metadata": {},
     "output_type": "execute_result"
    }
   ],
   "source": [
    "Advertising.shape"
   ]
  },
  {
   "cell_type": "code",
   "execution_count": 5,
   "id": "2b28c9a4-cde4-4e0f-af21-818fd6e1e086",
   "metadata": {},
   "outputs": [
    {
     "data": {
      "image/png": "[encoded data removed]",
      "text/plain": [
       "<Figure size 640x480 with 1 Axes>"
      ]
     },
     "metadata": {},
     "output_type": "display_data"
    }
   ],
   "source": [
    "regressor = linear_model.LinearRegression().fit(Advertising.loc[:,['TV']], Advertising.loc[:,'sales']) \n",
    "plt.scatter(y = 'sales', x = 'TV', data = Advertising, c = 'b')\n",
    "plt.plot(Advertising.loc[:,['TV']], regressor.predict(Advertising.loc[:,['TV']]), '-r')\n",
    "plt.vlines(Advertising.TV, regressor.predict(Advertising.loc[:,['TV']]), Advertising.sales, 'grey') # just wanted to plot those error lines\n",
    "plt.ylabel(\"sales\"); plt.xlabel(\"TV\");"
   ]
  },
  {
   "cell_type": "code",
   "execution_count": null,
   "id": "08b9de40-b358-4dbb-88e1-13f920245e08",
   "metadata": {},
   "outputs": [],
   "source": []
  },
  {
   "cell_type": "code",
   "execution_count": null,
   "id": "0c1efce9-a5e1-4640-aeca-ad67458bddcd",
   "metadata": {},
   "outputs": [],
   "source": []
  },
  {
   "cell_type": "markdown",
   "id": "88b0bdad-5b02-443b-b342-163ee01bd398",
   "metadata": {},
   "source": [
    "### Assessing the Accuracy of the Coefficient Estimates"
   ]
  },
  {
   "cell_type": "code",
   "execution_count": null,
   "id": "1946cca9-115c-4b1b-9753-46708b77a3f5",
   "metadata": {},
   "outputs": [],
   "source": []
  },
  {
   "cell_type": "code",
   "execution_count": 6,
   "id": "9347c065-b1d9-4543-b5e3-226276d4e19d",
   "metadata": {},
   "outputs": [],
   "source": [
    "advert_2 = Advertising.copy()\n",
    "advert_2 = advert_2.iloc[:, [0,3]]\n",
    "advert_2['x_bar'] = advert_2.TV.mean()\n",
    "advert_2['y_bar'] = advert_2.sales.mean()\n",
    "advert_2['x-x_bar'] = advert_2.TV - advert_2['x_bar']\n",
    "advert_2['y-y_bar'] = advert_2.sales - advert_2['y_bar']\n",
    "advert_2['x-x_bar_squared'] = advert_2['x-x_bar']**2 \n",
    "advert_2['x-x_bar*y-y_bar'] = advert_2['x-x_bar']*advert_2['y-y_bar'] "
   ]
  },
  {
   "cell_type": "code",
   "execution_count": 7,
   "id": "849f36f3-f888-4848-a319-e41dc1fe5942",
   "metadata": {},
   "outputs": [
    {
     "data": {
      "text/html": [
       "<div>\n",
       "<style scoped>\n",
       "    .dataframe tbody tr th:only-of-type {\n",
       "        vertical-align: middle;\n",
       "    }\n",
       "\n",
       "    .dataframe tbody tr th {\n",
       "        vertical-align: top;\n",
       "    }\n",
       "\n",
       "    .dataframe thead th {\n",
       "        text-align: right;\n",
       "    }\n",
       "</style>\n",
       "<table border=\"1\" class=\"dataframe\">\n",
       "  <thead>\n",
       "    <tr style=\"text-align: right;\">\n",
       "      <th></th>\n",
       "      <th>TV</th>\n",
       "      <th>sales</th>\n",
       "      <th>x_bar</th>\n",
       "      <th>y_bar</th>\n",
       "      <th>x-x_bar</th>\n",
       "      <th>y-y_bar</th>\n",
       "      <th>x-x_bar_squared</th>\n",
       "      <th>x-x_bar*y-y_bar</th>\n",
       "    </tr>\n",
       "  </thead>\n",
       "  <tbody>\n",
       "    <tr>\n",
       "      <th>1</th>\n",
       "      <td>230.1</td>\n",
       "      <td>22.1</td>\n",
       "      <td>147.0425</td>\n",
       "      <td>14.0225</td>\n",
       "      <td>83.0575</td>\n",
       "      <td>8.0775</td>\n",
       "      <td>6898.548306</td>\n",
       "      <td>670.896956</td>\n",
       "    </tr>\n",
       "  </tbody>\n",
       "</table>\n",
       "</div>"
      ],
      "text/plain": [
       "      TV  sales     x_bar    y_bar  x-x_bar  y-y_bar  x-x_bar_squared  \\\n",
       "1  230.1   22.1  147.0425  14.0225  83.0575   8.0775      6898.548306   \n",
       "\n",
       "   x-x_bar*y-y_bar  \n",
       "1       670.896956  "
      ]
     },
     "execution_count": 7,
     "metadata": {},
     "output_type": "execute_result"
    }
   ],
   "source": [
    "advert_2.head(1)"
   ]
  },
  {
   "cell_type": "code",
   "execution_count": 8,
   "id": "30836a24-6396-4103-b580-c13cf49070be",
   "metadata": {},
   "outputs": [
    {
     "name": "stdout",
     "output_type": "stream",
     "text": [
      "Beta 0: 7.0325935491276965\n",
      "Beta 1: 0.047536640433019736\n"
     ]
    }
   ],
   "source": [
    "beta_1 = sum(advert_2['x-x_bar*y-y_bar'])/sum(advert_2['x-x_bar_squared'])\n",
    "beta_0 = advert_2.sales.mean()-beta_1 * advert_2.TV.mean()\n",
    "print(\"Beta 0: {}\".format(beta_0))\n",
    "print(\"Beta 1: {}\".format(beta_1))"
   ]
  },
  {
   "cell_type": "code",
   "execution_count": 9,
   "id": "2946f705-4f70-414a-aa5b-d07d307e5272",
   "metadata": {},
   "outputs": [
    {
     "data": {
      "text/plain": [
       "2102.5305831313512"
      ]
     },
     "execution_count": 9,
     "metadata": {},
     "output_type": "execute_result"
    }
   ],
   "source": [
    "RSS = sum((advert_2.sales - beta_0 - beta_1 * advert_2.TV)**2)\n",
    "RSS"
   ]
  },
  {
   "cell_type": "code",
   "execution_count": 10,
   "id": "8aed2b43-9c54-4c83-9835-cfcb9ddcfde6",
   "metadata": {},
   "outputs": [
    {
     "name": "stdout",
     "output_type": "stream",
     "text": [
      "Intercept: 7.032593549127695 and Coeff: [0.04753664]\n"
     ]
    }
   ],
   "source": [
    "regressor = linear_model.LinearRegression().fit(Advertising.loc[:,['TV']], Advertising.loc[:,'sales']) \n",
    "print(\"Intercept: {} and Coeff: {}\".format(regressor.intercept_,regressor.coef_))"
   ]
  },
  {
   "cell_type": "code",
   "execution_count": 11,
   "id": "13b72e74-07e0-43dd-8683-dc0ddc78853c",
   "metadata": {},
   "outputs": [
    {
     "name": "stdout",
     "output_type": "stream",
     "text": [
      "SE_beta_0_squared: 0.209620157958264 and SE_beta_1_squared: 7.239367039024185e-06\n"
     ]
    }
   ],
   "source": [
    "# standard errors associated with beta_0 and beta_1\n",
    "n = advert_2.TV.shape[0]\n",
    "# residual standard error\n",
    "RSE = math.sqrt(RSS/(n-2))\n",
    "# RSE = np.std((advert_2.sales - beta_0 - beta_1 * advert_2.TV))\n",
    "#\n",
    "SE_beta_0 = math.sqrt(\n",
    "    RSE * RSE * ((1/n) + (advert_2.TV.mean()**2)/(sum(advert_2['x-x_bar_squared']))))\n",
    "SE_beta_1 = math.sqrt(\n",
    "    RSE * RSE /(sum(advert_2['x-x_bar_squared'])))\n",
    "print(\"SE_beta_0_squared: {} and SE_beta_1_squared: {}\".format(SE_beta_0**2, SE_beta_1**2))"
   ]
  },
  {
   "cell_type": "code",
   "execution_count": 12,
   "id": "439fc80a-20cf-4a13-a9cc-ce1058e40d85",
   "metadata": {},
   "outputs": [
    {
     "name": "stdout",
     "output_type": "stream",
     "text": [
      "[np.float64(6.1169076685807395), np.float64(7.9482794296746535)]\n",
      "[0.042155426057426, 0.052917854808613475]\n"
     ]
    }
   ],
   "source": [
    "# beta_0_95_perc_CI\n",
    "print([beta_0 - 2*SE_beta_0, beta_0 + 2*SE_beta_0])\n",
    "\n",
    "# beta_1_95_perc_CI\n",
    "print([beta_1 - 2*SE_beta_1, beta_1 + 2*SE_beta_1])"
   ]
  },
  {
   "cell_type": "code",
   "execution_count": null,
   "id": "50003eb8-4b86-4fd0-a131-f07f39738d11",
   "metadata": {},
   "outputs": [],
   "source": []
  },
  {
   "cell_type": "code",
   "execution_count": 13,
   "id": "71e32d8a-4555-40cd-ab94-217644f91c4b",
   "metadata": {},
   "outputs": [],
   "source": [
    "t_statistics_b1 = (beta_1 - 0)/SE_beta_1\n",
    "t_statistics_b0 = (beta_0 - 0)/SE_beta_0\n",
    "# https://stackoverflow.com/questions/17559897/python-p-value-from-t-statistic?noredirect=1&lq=1\n",
    "df = advert_2.shape[0]\n",
    "p_values_b0 = 2*(1-stats.t.cdf(np.abs(t_statistics_b0),(df-1)))\n",
    "p_values_b1 = 2*(1-stats.t.cdf(np.abs(t_statistics_b1),(df-1)))\n",
    "#"
   ]
  },
  {
   "cell_type": "code",
   "execution_count": null,
   "id": "5e17a75a-0dcf-4a8e-a19a-942d3dd2957d",
   "metadata": {},
   "outputs": [],
   "source": []
  },
  {
   "cell_type": "code",
   "execution_count": 14,
   "id": "e5b5ddd1-2d2b-4976-a900-aa975840f3f6",
   "metadata": {},
   "outputs": [
    {
     "data": {
      "text/html": [
       "<div>\n",
       "<style scoped>\n",
       "    .dataframe tbody tr th:only-of-type {\n",
       "        vertical-align: middle;\n",
       "    }\n",
       "\n",
       "    .dataframe tbody tr th {\n",
       "        vertical-align: top;\n",
       "    }\n",
       "\n",
       "    .dataframe thead th {\n",
       "        text-align: right;\n",
       "    }\n",
       "</style>\n",
       "<table border=\"1\" class=\"dataframe\">\n",
       "  <thead>\n",
       "    <tr style=\"text-align: right;\">\n",
       "      <th></th>\n",
       "      <th>Variable</th>\n",
       "      <th>Coefficient</th>\n",
       "      <th>Std.error</th>\n",
       "      <th>t-statistic</th>\n",
       "      <th>P-values</th>\n",
       "    </tr>\n",
       "  </thead>\n",
       "  <tbody>\n",
       "    <tr>\n",
       "      <th>0</th>\n",
       "      <td>Intercept</td>\n",
       "      <td>7.032594</td>\n",
       "      <td>0.457843</td>\n",
       "      <td>15.360275</td>\n",
       "      <td>0.0</td>\n",
       "    </tr>\n",
       "    <tr>\n",
       "      <th>1</th>\n",
       "      <td>TV</td>\n",
       "      <td>0.047537</td>\n",
       "      <td>0.002691</td>\n",
       "      <td>17.667626</td>\n",
       "      <td>0.0</td>\n",
       "    </tr>\n",
       "  </tbody>\n",
       "</table>\n",
       "</div>"
      ],
      "text/plain": [
       "    Variable  Coefficient  Std.error  t-statistic  P-values\n",
       "0  Intercept     7.032594   0.457843    15.360275       0.0\n",
       "1         TV     0.047537   0.002691    17.667626       0.0"
      ]
     },
     "execution_count": 14,
     "metadata": {},
     "output_type": "execute_result"
    }
   ],
   "source": [
    "pd.DataFrame(\n",
    "    {'Variable': [\"Intercept\", \"TV\"],\n",
    "    'Coefficient': [beta_0, beta_1],\n",
    "    'Std.error': [SE_beta_0, SE_beta_1],\n",
    "    't-statistic': [t_statistics_b0, t_statistics_b1],\n",
    "     'P-values' : [p_values_b0, p_values_b1]\n",
    "    }\n",
    ")"
   ]
  },
  {
   "cell_type": "code",
   "execution_count": null,
   "id": "5ef54423-13d7-4f5e-94c2-de1cc08c7c2d",
   "metadata": {},
   "outputs": [],
   "source": []
  },
  {
   "cell_type": "code",
   "execution_count": 15,
   "id": "3ff6b674-744a-408d-b2f8-9122e3f2c24e",
   "metadata": {},
   "outputs": [],
   "source": [
    "# Let Me try create class for model summary"
   ]
  },
  {
   "cell_type": "code",
   "execution_count": 16,
   "id": "beee3d67-1897-4337-bfd3-b0a8202648a4",
   "metadata": {},
   "outputs": [],
   "source": [
    "class Summaries_SimpleLR:\n",
    "    def __init__(self, data, x_variable, y_variable, level_of_confidence = 0.05):\n",
    "        self.data = data\n",
    "        self.x_variable = x_variable \n",
    "        self.y_variable = y_variable\n",
    "        self.level_of_confidence = level_of_confidence\n",
    "\n",
    "    def summary(self):\n",
    "        print(\"Simple Linear Regression of Y:{} on X: {}\".format(self.y_variable,self.x_variable))\n",
    "        # Hypothesis\n",
    "        print(\"H_0: There is no relationship between X: {} and Y:{}\".format(self.x_variable,self.y_variable))\n",
    "        print(\"H_a: There is some relationship between X: {} and Y:{}\".format(self.x_variable,self.y_variable))\n",
    "        # get x and y bars\n",
    "        x_bar = self.data[self.x_variable].mean()\n",
    "        y_bar = self.data[self.y_variable].mean()\n",
    "        self.data['x-x_bar'] = self.data[self.x_variable] - x_bar\n",
    "        self.data['y-y_bar'] = self.data[self.y_variable] - y_bar\n",
    "        self.data['x-x_bar_squared'] = self.data['x-x_bar']**2 \n",
    "        self.data['x-x_bar*y-y_bar'] = self.data['x-x_bar']*self.data['y-y_bar'] \n",
    "        # get betas\n",
    "        beta_1 = sum(self.data['x-x_bar*y-y_bar'])/sum(self.data['x-x_bar_squared'])\n",
    "        beta_0 = y_bar-beta_1 * x_bar\n",
    "        # RSS: \n",
    "        RSS = sum((self.data[self.y_variable] - beta_0 - beta_1 * self.data[self.x_variable])**2)\n",
    "        # standard errors associated with beta_0 and beta_1\n",
    "        n = self.data.shape[0]\n",
    "        # residual standard error\n",
    "        RSE = math.sqrt(RSS/(n-2)) # measure of lack of fit of model to the data\n",
    "        # RSE = np.std(RSS)\n",
    "        SE_beta_0 = math.sqrt(\n",
    "            RSE * RSE * ((1/n) + (x_bar**2)/(sum(self.data['x-x_bar_squared']))))\n",
    "        SE_beta_1 = math.sqrt(\n",
    "            RSE * RSE /(sum(self.data['x-x_bar_squared'])))\n",
    "        # t-statistic\n",
    "        t_statistics_b1 = (beta_1 - 0)/SE_beta_1\n",
    "        t_statistics_b0 = (beta_0 - 0)/SE_beta_0\n",
    "        # p-values\n",
    "        # https://stackoverflow.com/questions/17559897/python-p-value-from-t-statistic?noredirect=1&lq=1\n",
    "        p_values_b0 = 2*(1-stats.t.cdf(np.abs(t_statistics_b0),(df-1)))\n",
    "        p_values_b1 = 2*(1-stats.t.cdf(np.abs(t_statistics_b1),(df-1)))\n",
    "        # beta 0\n",
    "        beta_0_decision_1 = \"Fail to reject null\"\n",
    "        beta_0_decision_2 = \"Reject null: In absence of X: {}, Y:{} is non-zero\".format(self.x_variable,self.y_variable)\n",
    "        # beta 1\n",
    "        beta_1_decision_1 = \"Fail to reject null\"\n",
    "        beta_1_decision_2 = \"Reject null: a relationship to exist between X: {} and Y:{}\".format(self.x_variable,self.y_variable)\n",
    "        #\n",
    "        TSS = sum(self.data['y-y_bar'] ** 2)\n",
    "        r_squared = 1 - (RSS/TSS)\n",
    "        #\n",
    "        n = self.data.shape[0] # number of observations\n",
    "        k = 1 # number of predictors \n",
    "        F_statistic = (r_squared / (1 - r_squared))*((n - k - 1)/k)\n",
    "        #\n",
    "        print(\n",
    "            pd.DataFrame(\n",
    "                {'Residual Standard Error': [RSS],\n",
    "                'R Squared': [r_squared],\n",
    "                'F-Statistic': [F_statistic]}\n",
    "            )\n",
    "        )\n",
    "        #\n",
    "        # return df of model summary\n",
    "        return pd.DataFrame(\n",
    "            {'Variable': [\"Intercept\", \"TV\"],\n",
    "            'Coefficient': [beta_0, beta_1],\n",
    "            'Std.error': [SE_beta_0, SE_beta_1],\n",
    "             'Lower CI': [beta_0 - 2*SE_beta_0, beta_1 - 2*SE_beta_1],\n",
    "             'Upper CI': [beta_0 + 2*SE_beta_0, beta_1 + 2*SE_beta_1],\n",
    "            't-statistic': [t_statistics_b0, t_statistics_b1],\n",
    "             'P-values' : [p_values_b0, p_values_b1],\n",
    "             'Decision': [\n",
    "                 beta_0_decision_1 if (p_values_b0 > self.level_of_confidence) else beta_0_decision_2,\n",
    "                 beta_1_decision_1 if (p_values_b1 > self.level_of_confidence) else beta_1_decision_2\n",
    "             ]\n",
    "            }\n",
    "        )"
   ]
  },
  {
   "cell_type": "code",
   "execution_count": 17,
   "id": "0e98aa27-bb48-47ec-9dfe-7bf5d06b78c3",
   "metadata": {},
   "outputs": [
    {
     "name": "stdout",
     "output_type": "stream",
     "text": [
      "Simple Linear Regression of Y:sales on X: TV\n",
      "H_0: There is no relationship between X: TV and Y:sales\n",
      "H_a: There is some relationship between X: TV and Y:sales\n",
      "   Residual Standard Error  R Squared  F-Statistic\n",
      "0              2102.530583   0.611875   312.144994\n"
     ]
    },
    {
     "data": {
      "text/html": [
       "<div>\n",
       "<style scoped>\n",
       "    .dataframe tbody tr th:only-of-type {\n",
       "        vertical-align: middle;\n",
       "    }\n",
       "\n",
       "    .dataframe tbody tr th {\n",
       "        vertical-align: top;\n",
       "    }\n",
       "\n",
       "    .dataframe thead th {\n",
       "        text-align: right;\n",
       "    }\n",
       "</style>\n",
       "<table border=\"1\" class=\"dataframe\">\n",
       "  <thead>\n",
       "    <tr style=\"text-align: right;\">\n",
       "      <th></th>\n",
       "      <th>Variable</th>\n",
       "      <th>Coefficient</th>\n",
       "      <th>Std.error</th>\n",
       "      <th>Lower CI</th>\n",
       "      <th>Upper CI</th>\n",
       "      <th>t-statistic</th>\n",
       "      <th>P-values</th>\n",
       "      <th>Decision</th>\n",
       "    </tr>\n",
       "  </thead>\n",
       "  <tbody>\n",
       "    <tr>\n",
       "      <th>0</th>\n",
       "      <td>Intercept</td>\n",
       "      <td>7.032594</td>\n",
       "      <td>0.457843</td>\n",
       "      <td>6.116908</td>\n",
       "      <td>7.948279</td>\n",
       "      <td>15.360275</td>\n",
       "      <td>0.0</td>\n",
       "      <td>Reject null: In absence of X: TV, Y:sales is n...</td>\n",
       "    </tr>\n",
       "    <tr>\n",
       "      <th>1</th>\n",
       "      <td>TV</td>\n",
       "      <td>0.047537</td>\n",
       "      <td>0.002691</td>\n",
       "      <td>0.042155</td>\n",
       "      <td>0.052918</td>\n",
       "      <td>17.667626</td>\n",
       "      <td>0.0</td>\n",
       "      <td>Reject null: a relationship to exist between X...</td>\n",
       "    </tr>\n",
       "  </tbody>\n",
       "</table>\n",
       "</div>"
      ],
      "text/plain": [
       "    Variable  Coefficient  Std.error  Lower CI  Upper CI  t-statistic  \\\n",
       "0  Intercept     7.032594   0.457843  6.116908  7.948279    15.360275   \n",
       "1         TV     0.047537   0.002691  0.042155  0.052918    17.667626   \n",
       "\n",
       "   P-values                                           Decision  \n",
       "0       0.0  Reject null: In absence of X: TV, Y:sales is n...  \n",
       "1       0.0  Reject null: a relationship to exist between X...  "
      ]
     },
     "execution_count": 17,
     "metadata": {},
     "output_type": "execute_result"
    }
   ],
   "source": [
    "mm = Summaries_SimpleLR(data=Advertising.copy(), x_variable='TV', y_variable='sales',level_of_confidence = 0.05)\n",
    "mm.summary()"
   ]
  },
  {
   "cell_type": "code",
   "execution_count": null,
   "id": "02e12d70-03fb-49d0-9391-f468515e4694",
   "metadata": {},
   "outputs": [],
   "source": []
  },
  {
   "cell_type": "markdown",
   "id": "2532082f-fc86-42c9-b4e8-3af5ff4643c4",
   "metadata": {},
   "source": [
    "### Assessing the Accuracy of the Model"
   ]
  },
  {
   "cell_type": "code",
   "execution_count": null,
   "id": "3738a248-737f-4d20-8c82-1e2175357972",
   "metadata": {},
   "outputs": [],
   "source": []
  },
  {
   "cell_type": "code",
   "execution_count": 18,
   "id": "90e7415c-8e27-46d3-8fb3-b9d064884503",
   "metadata": {},
   "outputs": [
    {
     "data": {
      "text/plain": [
       "3.2586563686504624"
      ]
     },
     "execution_count": 18,
     "metadata": {},
     "output_type": "execute_result"
    }
   ],
   "source": [
    "RSE\n",
    "RSS\n",
    "math.sqrt((1/(advert_2.shape[0]-2))*RSS)"
   ]
  },
  {
   "cell_type": "code",
   "execution_count": 19,
   "id": "2e8b0257-7b2d-4d15-b4d7-ac9485654ed4",
   "metadata": {},
   "outputs": [
    {
     "data": {
      "text/plain": [
       "0.611875050850071"
      ]
     },
     "execution_count": 19,
     "metadata": {},
     "output_type": "execute_result"
    }
   ],
   "source": [
    "TSS = sum(advert_2['y-y_bar'] ** 2)\n",
    "r_squared = 1 - (RSS/TSS)\n",
    "r_squared"
   ]
  },
  {
   "cell_type": "code",
   "execution_count": 20,
   "id": "e2ad3e11-435c-43fd-81bd-2e04623b2c8d",
   "metadata": {},
   "outputs": [
    {
     "data": {
      "text/plain": [
       "312.14499437271286"
      ]
     },
     "execution_count": 20,
     "metadata": {},
     "output_type": "execute_result"
    }
   ],
   "source": [
    "n = advert_2.shape[0]\n",
    "k = 1 #advert_2.shape[1] - 1\n",
    "F_statistic = (r_squared / (1 - r_squared))*((n - k - 1)/k)\n",
    "F_statistic # "
   ]
  },
  {
   "cell_type": "code",
   "execution_count": null,
   "id": "9731898c-2d55-4d3f-8215-a2e6bafb49d4",
   "metadata": {},
   "outputs": [],
   "source": []
  },
  {
   "cell_type": "markdown",
   "id": "69b79a66-5f81-4c7f-9527-16d69574d9d2",
   "metadata": {},
   "source": [
    "## Multiple Linear Regression"
   ]
  },
  {
   "cell_type": "code",
   "execution_count": null,
   "id": "10748f59-11bc-48d2-97d4-ae74c32be052",
   "metadata": {},
   "outputs": [],
   "source": []
  },
  {
   "cell_type": "code",
   "execution_count": 21,
   "id": "64158769-31e6-4bdb-815d-8a21af669236",
   "metadata": {},
   "outputs": [
    {
     "name": "stdout",
     "output_type": "stream",
     "text": [
      "Simple Linear Regression of Y:sales on X: TV\n",
      "H_0: There is no relationship between X: TV and Y:sales\n",
      "H_a: There is some relationship between X: TV and Y:sales\n",
      "   Residual Standard Error  R Squared  F-Statistic\n",
      "0              2102.530583   0.611875   312.144994\n"
     ]
    },
    {
     "data": {
      "text/html": [
       "<div>\n",
       "<style scoped>\n",
       "    .dataframe tbody tr th:only-of-type {\n",
       "        vertical-align: middle;\n",
       "    }\n",
       "\n",
       "    .dataframe tbody tr th {\n",
       "        vertical-align: top;\n",
       "    }\n",
       "\n",
       "    .dataframe thead th {\n",
       "        text-align: right;\n",
       "    }\n",
       "</style>\n",
       "<table border=\"1\" class=\"dataframe\">\n",
       "  <thead>\n",
       "    <tr style=\"text-align: right;\">\n",
       "      <th></th>\n",
       "      <th>Variable</th>\n",
       "      <th>Coefficient</th>\n",
       "      <th>Std.error</th>\n",
       "      <th>Lower CI</th>\n",
       "      <th>Upper CI</th>\n",
       "      <th>t-statistic</th>\n",
       "      <th>P-values</th>\n",
       "      <th>Decision</th>\n",
       "    </tr>\n",
       "  </thead>\n",
       "  <tbody>\n",
       "    <tr>\n",
       "      <th>0</th>\n",
       "      <td>Intercept</td>\n",
       "      <td>7.032594</td>\n",
       "      <td>0.457843</td>\n",
       "      <td>6.116908</td>\n",
       "      <td>7.948279</td>\n",
       "      <td>15.360275</td>\n",
       "      <td>0.0</td>\n",
       "      <td>Reject null: In absence of X: TV, Y:sales is n...</td>\n",
       "    </tr>\n",
       "    <tr>\n",
       "      <th>1</th>\n",
       "      <td>TV</td>\n",
       "      <td>0.047537</td>\n",
       "      <td>0.002691</td>\n",
       "      <td>0.042155</td>\n",
       "      <td>0.052918</td>\n",
       "      <td>17.667626</td>\n",
       "      <td>0.0</td>\n",
       "      <td>Reject null: a relationship to exist between X...</td>\n",
       "    </tr>\n",
       "  </tbody>\n",
       "</table>\n",
       "</div>"
      ],
      "text/plain": [
       "    Variable  Coefficient  Std.error  Lower CI  Upper CI  t-statistic  \\\n",
       "0  Intercept     7.032594   0.457843  6.116908  7.948279    15.360275   \n",
       "1         TV     0.047537   0.002691  0.042155  0.052918    17.667626   \n",
       "\n",
       "   P-values                                           Decision  \n",
       "0       0.0  Reject null: In absence of X: TV, Y:sales is n...  \n",
       "1       0.0  Reject null: a relationship to exist between X...  "
      ]
     },
     "execution_count": 21,
     "metadata": {},
     "output_type": "execute_result"
    }
   ],
   "source": [
    "mm = Summaries_SimpleLR(data=Advertising.copy(), x_variable='TV', y_variable='sales',level_of_confidence = 0.05)\n",
    "mm.summary()"
   ]
  },
  {
   "cell_type": "code",
   "execution_count": 22,
   "id": "e554cee3-8a38-4012-a3fc-7d75e4672371",
   "metadata": {},
   "outputs": [
    {
     "name": "stdout",
     "output_type": "stream",
     "text": [
      "Simple Linear Regression of Y:sales on X: radio\n",
      "H_0: There is no relationship between X: radio and Y:sales\n",
      "H_a: There is some relationship between X: radio and Y:sales\n",
      "   Residual Standard Error  R Squared  F-Statistic\n",
      "0              3618.479549   0.332032    98.421588\n"
     ]
    },
    {
     "data": {
      "text/html": [
       "<div>\n",
       "<style scoped>\n",
       "    .dataframe tbody tr th:only-of-type {\n",
       "        vertical-align: middle;\n",
       "    }\n",
       "\n",
       "    .dataframe tbody tr th {\n",
       "        vertical-align: top;\n",
       "    }\n",
       "\n",
       "    .dataframe thead th {\n",
       "        text-align: right;\n",
       "    }\n",
       "</style>\n",
       "<table border=\"1\" class=\"dataframe\">\n",
       "  <thead>\n",
       "    <tr style=\"text-align: right;\">\n",
       "      <th></th>\n",
       "      <th>Variable</th>\n",
       "      <th>Coefficient</th>\n",
       "      <th>Std.error</th>\n",
       "      <th>Lower CI</th>\n",
       "      <th>Upper CI</th>\n",
       "      <th>t-statistic</th>\n",
       "      <th>P-values</th>\n",
       "      <th>Decision</th>\n",
       "    </tr>\n",
       "  </thead>\n",
       "  <tbody>\n",
       "    <tr>\n",
       "      <th>0</th>\n",
       "      <td>Intercept</td>\n",
       "      <td>9.311638</td>\n",
       "      <td>0.562900</td>\n",
       "      <td>8.185837</td>\n",
       "      <td>10.437439</td>\n",
       "      <td>16.542245</td>\n",
       "      <td>0.0</td>\n",
       "      <td>Reject null: In absence of X: radio, Y:sales i...</td>\n",
       "    </tr>\n",
       "    <tr>\n",
       "      <th>1</th>\n",
       "      <td>TV</td>\n",
       "      <td>0.202496</td>\n",
       "      <td>0.020411</td>\n",
       "      <td>0.161673</td>\n",
       "      <td>0.243318</td>\n",
       "      <td>9.920765</td>\n",
       "      <td>0.0</td>\n",
       "      <td>Reject null: a relationship to exist between X...</td>\n",
       "    </tr>\n",
       "  </tbody>\n",
       "</table>\n",
       "</div>"
      ],
      "text/plain": [
       "    Variable  Coefficient  Std.error  Lower CI   Upper CI  t-statistic  \\\n",
       "0  Intercept     9.311638   0.562900  8.185837  10.437439    16.542245   \n",
       "1         TV     0.202496   0.020411  0.161673   0.243318     9.920765   \n",
       "\n",
       "   P-values                                           Decision  \n",
       "0       0.0  Reject null: In absence of X: radio, Y:sales i...  \n",
       "1       0.0  Reject null: a relationship to exist between X...  "
      ]
     },
     "execution_count": 22,
     "metadata": {},
     "output_type": "execute_result"
    }
   ],
   "source": [
    "mm = Summaries_SimpleLR(data=Advertising.copy(), x_variable='radio', y_variable='sales',level_of_confidence = 0.05)\n",
    "mm.summary()"
   ]
  },
  {
   "cell_type": "code",
   "execution_count": 23,
   "id": "2641d901-83b4-49bd-9db4-fddc8ce4c188",
   "metadata": {},
   "outputs": [
    {
     "name": "stdout",
     "output_type": "stream",
     "text": [
      "Simple Linear Regression of Y:sales on X: newspaper\n",
      "H_0: There is no relationship between X: newspaper and Y:sales\n",
      "H_a: There is some relationship between X: newspaper and Y:sales\n",
      "   Residual Standard Error  R Squared  F-Statistic\n",
      "0              5134.804544    0.05212    10.887299\n"
     ]
    },
    {
     "data": {
      "text/html": [
       "<div>\n",
       "<style scoped>\n",
       "    .dataframe tbody tr th:only-of-type {\n",
       "        vertical-align: middle;\n",
       "    }\n",
       "\n",
       "    .dataframe tbody tr th {\n",
       "        vertical-align: top;\n",
       "    }\n",
       "\n",
       "    .dataframe thead th {\n",
       "        text-align: right;\n",
       "    }\n",
       "</style>\n",
       "<table border=\"1\" class=\"dataframe\">\n",
       "  <thead>\n",
       "    <tr style=\"text-align: right;\">\n",
       "      <th></th>\n",
       "      <th>Variable</th>\n",
       "      <th>Coefficient</th>\n",
       "      <th>Std.error</th>\n",
       "      <th>Lower CI</th>\n",
       "      <th>Upper CI</th>\n",
       "      <th>t-statistic</th>\n",
       "      <th>P-values</th>\n",
       "      <th>Decision</th>\n",
       "    </tr>\n",
       "  </thead>\n",
       "  <tbody>\n",
       "    <tr>\n",
       "      <th>0</th>\n",
       "      <td>Intercept</td>\n",
       "      <td>12.351407</td>\n",
       "      <td>0.621420</td>\n",
       "      <td>11.108567</td>\n",
       "      <td>13.594247</td>\n",
       "      <td>19.876096</td>\n",
       "      <td>0.000000</td>\n",
       "      <td>Reject null: In absence of X: newspaper, Y:sal...</td>\n",
       "    </tr>\n",
       "    <tr>\n",
       "      <th>1</th>\n",
       "      <td>TV</td>\n",
       "      <td>0.054693</td>\n",
       "      <td>0.016576</td>\n",
       "      <td>0.021542</td>\n",
       "      <td>0.087845</td>\n",
       "      <td>3.299591</td>\n",
       "      <td>0.001147</td>\n",
       "      <td>Reject null: a relationship to exist between X...</td>\n",
       "    </tr>\n",
       "  </tbody>\n",
       "</table>\n",
       "</div>"
      ],
      "text/plain": [
       "    Variable  Coefficient  Std.error   Lower CI   Upper CI  t-statistic  \\\n",
       "0  Intercept    12.351407   0.621420  11.108567  13.594247    19.876096   \n",
       "1         TV     0.054693   0.016576   0.021542   0.087845     3.299591   \n",
       "\n",
       "   P-values                                           Decision  \n",
       "0  0.000000  Reject null: In absence of X: newspaper, Y:sal...  \n",
       "1  0.001147  Reject null: a relationship to exist between X...  "
      ]
     },
     "execution_count": 23,
     "metadata": {},
     "output_type": "execute_result"
    }
   ],
   "source": [
    "mm = Summaries_SimpleLR(data=Advertising.copy(), x_variable='newspaper', y_variable='sales',level_of_confidence = 0.05)\n",
    "mm.summary()"
   ]
  },
  {
   "cell_type": "code",
   "execution_count": null,
   "id": "51298b9a-9377-4830-ab9a-6e2deec65cf3",
   "metadata": {},
   "outputs": [],
   "source": []
  },
  {
   "cell_type": "markdown",
   "id": "a193e4cc-6d16-4d93-b271-9fec8b5de889",
   "metadata": {},
   "source": [
    "### Estimating the Regression Coefficient"
   ]
  },
  {
   "cell_type": "code",
   "execution_count": 24,
   "id": "18418072-8be7-49a8-9543-0c8f41d4d60d",
   "metadata": {},
   "outputs": [
    {
     "data": {
      "text/html": [
       "<div>\n",
       "<style scoped>\n",
       "    .dataframe tbody tr th:only-of-type {\n",
       "        vertical-align: middle;\n",
       "    }\n",
       "\n",
       "    .dataframe tbody tr th {\n",
       "        vertical-align: top;\n",
       "    }\n",
       "\n",
       "    .dataframe thead th {\n",
       "        text-align: right;\n",
       "    }\n",
       "</style>\n",
       "<table border=\"1\" class=\"dataframe\">\n",
       "  <thead>\n",
       "    <tr style=\"text-align: right;\">\n",
       "      <th></th>\n",
       "      <th>TV</th>\n",
       "      <th>radio</th>\n",
       "      <th>newspaper</th>\n",
       "      <th>sales</th>\n",
       "    </tr>\n",
       "  </thead>\n",
       "  <tbody>\n",
       "    <tr>\n",
       "      <th>1</th>\n",
       "      <td>230.1</td>\n",
       "      <td>37.8</td>\n",
       "      <td>69.2</td>\n",
       "      <td>22.1</td>\n",
       "    </tr>\n",
       "    <tr>\n",
       "      <th>2</th>\n",
       "      <td>44.5</td>\n",
       "      <td>39.3</td>\n",
       "      <td>45.1</td>\n",
       "      <td>10.4</td>\n",
       "    </tr>\n",
       "    <tr>\n",
       "      <th>3</th>\n",
       "      <td>17.2</td>\n",
       "      <td>45.9</td>\n",
       "      <td>69.3</td>\n",
       "      <td>9.3</td>\n",
       "    </tr>\n",
       "    <tr>\n",
       "      <th>4</th>\n",
       "      <td>151.5</td>\n",
       "      <td>41.3</td>\n",
       "      <td>58.5</td>\n",
       "      <td>18.5</td>\n",
       "    </tr>\n",
       "    <tr>\n",
       "      <th>5</th>\n",
       "      <td>180.8</td>\n",
       "      <td>10.8</td>\n",
       "      <td>58.4</td>\n",
       "      <td>12.9</td>\n",
       "    </tr>\n",
       "  </tbody>\n",
       "</table>\n",
       "</div>"
      ],
      "text/plain": [
       "      TV  radio  newspaper  sales\n",
       "1  230.1   37.8       69.2   22.1\n",
       "2   44.5   39.3       45.1   10.4\n",
       "3   17.2   45.9       69.3    9.3\n",
       "4  151.5   41.3       58.5   18.5\n",
       "5  180.8   10.8       58.4   12.9"
      ]
     },
     "execution_count": 24,
     "metadata": {},
     "output_type": "execute_result"
    }
   ],
   "source": [
    "Advertising.head()"
   ]
  },
  {
   "cell_type": "code",
   "execution_count": 29,
   "id": "f3bdf441-e7fb-44d5-a0e2-e6c856ede9e0",
   "metadata": {},
   "outputs": [
    {
     "data": {
      "text/html": [
       "<style type=\"text/css\">\n",
       "#T_3f1d2_row0_col0, #T_3f1d2_row1_col1, #T_3f1d2_row2_col2, #T_3f1d2_row3_col3 {\n",
       "  background-color: #023858;\n",
       "  color: #f1f1f1;\n",
       "}\n",
       "#T_3f1d2_row0_col1, #T_3f1d2_row0_col2, #T_3f1d2_row1_col0, #T_3f1d2_row2_col0, #T_3f1d2_row2_col3 {\n",
       "  background-color: #fff7fb;\n",
       "  color: #000000;\n",
       "}\n",
       "#T_3f1d2_row0_col3 {\n",
       "  background-color: #1278b4;\n",
       "  color: #f1f1f1;\n",
       "}\n",
       "#T_3f1d2_row1_col2 {\n",
       "  background-color: #bbc7e0;\n",
       "  color: #000000;\n",
       "}\n",
       "#T_3f1d2_row1_col3 {\n",
       "  background-color: #88b1d4;\n",
       "  color: #000000;\n",
       "}\n",
       "#T_3f1d2_row2_col1 {\n",
       "  background-color: #b9c6e0;\n",
       "  color: #000000;\n",
       "}\n",
       "#T_3f1d2_row3_col0 {\n",
       "  background-color: #056caa;\n",
       "  color: #f1f1f1;\n",
       "}\n",
       "#T_3f1d2_row3_col1 {\n",
       "  background-color: #5a9ec9;\n",
       "  color: #f1f1f1;\n",
       "}\n",
       "#T_3f1d2_row3_col2 {\n",
       "  background-color: #e0dded;\n",
       "  color: #000000;\n",
       "}\n",
       "</style>\n",
       "<table id=\"T_3f1d2\">\n",
       "  <thead>\n",
       "    <tr>\n",
       "      <th class=\"blank level0\" >&nbsp;</th>\n",
       "      <th id=\"T_3f1d2_level0_col0\" class=\"col_heading level0 col0\" >TV</th>\n",
       "      <th id=\"T_3f1d2_level0_col1\" class=\"col_heading level0 col1\" >radio</th>\n",
       "      <th id=\"T_3f1d2_level0_col2\" class=\"col_heading level0 col2\" >newspaper</th>\n",
       "      <th id=\"T_3f1d2_level0_col3\" class=\"col_heading level0 col3\" >sales</th>\n",
       "    </tr>\n",
       "  </thead>\n",
       "  <tbody>\n",
       "    <tr>\n",
       "      <th id=\"T_3f1d2_level0_row0\" class=\"row_heading level0 row0\" >TV</th>\n",
       "      <td id=\"T_3f1d2_row0_col0\" class=\"data row0 col0\" >1.000000</td>\n",
       "      <td id=\"T_3f1d2_row0_col1\" class=\"data row0 col1\" >0.054809</td>\n",
       "      <td id=\"T_3f1d2_row0_col2\" class=\"data row0 col2\" >0.056648</td>\n",
       "      <td id=\"T_3f1d2_row0_col3\" class=\"data row0 col3\" >0.782224</td>\n",
       "    </tr>\n",
       "    <tr>\n",
       "      <th id=\"T_3f1d2_level0_row1\" class=\"row_heading level0 row1\" >radio</th>\n",
       "      <td id=\"T_3f1d2_row1_col0\" class=\"data row1 col0\" >0.054809</td>\n",
       "      <td id=\"T_3f1d2_row1_col1\" class=\"data row1 col1\" >1.000000</td>\n",
       "      <td id=\"T_3f1d2_row1_col2\" class=\"data row1 col2\" >0.354104</td>\n",
       "      <td id=\"T_3f1d2_row1_col3\" class=\"data row1 col3\" >0.576223</td>\n",
       "    </tr>\n",
       "    <tr>\n",
       "      <th id=\"T_3f1d2_level0_row2\" class=\"row_heading level0 row2\" >newspaper</th>\n",
       "      <td id=\"T_3f1d2_row2_col0\" class=\"data row2 col0\" >0.056648</td>\n",
       "      <td id=\"T_3f1d2_row2_col1\" class=\"data row2 col1\" >0.354104</td>\n",
       "      <td id=\"T_3f1d2_row2_col2\" class=\"data row2 col2\" >1.000000</td>\n",
       "      <td id=\"T_3f1d2_row2_col3\" class=\"data row2 col3\" >0.228299</td>\n",
       "    </tr>\n",
       "    <tr>\n",
       "      <th id=\"T_3f1d2_level0_row3\" class=\"row_heading level0 row3\" >sales</th>\n",
       "      <td id=\"T_3f1d2_row3_col0\" class=\"data row3 col0\" >0.782224</td>\n",
       "      <td id=\"T_3f1d2_row3_col1\" class=\"data row3 col1\" >0.576223</td>\n",
       "      <td id=\"T_3f1d2_row3_col2\" class=\"data row3 col2\" >0.228299</td>\n",
       "      <td id=\"T_3f1d2_row3_col3\" class=\"data row3 col3\" >1.000000</td>\n",
       "    </tr>\n",
       "  </tbody>\n",
       "</table>\n"
      ],
      "text/plain": [
       "<pandas.io.formats.style.Styler at 0x169c2f206e0>"
      ]
     },
     "execution_count": 29,
     "metadata": {},
     "output_type": "execute_result"
    }
   ],
   "source": [
    "Advertising.corr().style.background_gradient()"
   ]
  },
  {
   "cell_type": "code",
   "execution_count": null,
   "id": "716aebcd-79a2-42a1-9465-9cf0169e70a1",
   "metadata": {},
   "outputs": [],
   "source": []
  },
  {
   "cell_type": "code",
   "execution_count": 30,
   "id": "f87e7ebf-ad5d-4f8d-80d0-6e79f018b006",
   "metadata": {},
   "outputs": [
    {
     "data": {
      "text/html": [
       "<style>#sk-container-id-1 {\n",
       "  /* Definition of color scheme common for light and dark mode */\n",
       "  --sklearn-color-text: black;\n",
       "  --sklearn-color-line: gray;\n",
       "  /* Definition of color scheme for unfitted estimators */\n",
       "  --sklearn-color-unfitted-level-0: #fff5e6;\n",
       "  --sklearn-color-unfitted-level-1: #f6e4d2;\n",
       "  --sklearn-color-unfitted-level-2: #ffe0b3;\n",
       "  --sklearn-color-unfitted-level-3: chocolate;\n",
       "  /* Definition of color scheme for fitted estimators */\n",
       "  --sklearn-color-fitted-level-0: #f0f8ff;\n",
       "  --sklearn-color-fitted-level-1: #d4ebff;\n",
       "  --sklearn-color-fitted-level-2: #b3dbfd;\n",
       "  --sklearn-color-fitted-level-3: cornflowerblue;\n",
       "\n",
       "  /* Specific color for light theme */\n",
       "  --sklearn-color-text-on-default-background: var(--sg-text-color, var(--theme-code-foreground, var(--jp-content-font-color1, black)));\n",
       "  --sklearn-color-background: var(--sg-background-color, var(--theme-background, var(--jp-layout-color0, white)));\n",
       "  --sklearn-color-border-box: var(--sg-text-color, var(--theme-code-foreground, var(--jp-content-font-color1, black)));\n",
       "  --sklearn-color-icon: #696969;\n",
       "\n",
       "  @media (prefers-color-scheme: dark) {\n",
       "    /* Redefinition of color scheme for dark theme */\n",
       "    --sklearn-color-text-on-default-background: var(--sg-text-color, var(--theme-code-foreground, var(--jp-content-font-color1, white)));\n",
       "    --sklearn-color-background: var(--sg-background-color, var(--theme-background, var(--jp-layout-color0, #111)));\n",
       "    --sklearn-color-border-box: var(--sg-text-color, var(--theme-code-foreground, var(--jp-content-font-color1, white)));\n",
       "    --sklearn-color-icon: #878787;\n",
       "  }\n",
       "}\n",
       "\n",
       "#sk-container-id-1 {\n",
       "  color: var(--sklearn-color-text);\n",
       "}\n",
       "\n",
       "#sk-container-id-1 pre {\n",
       "  padding: 0;\n",
       "}\n",
       "\n",
       "#sk-container-id-1 input.sk-hidden--visually {\n",
       "  border: 0;\n",
       "  clip: rect(1px 1px 1px 1px);\n",
       "  clip: rect(1px, 1px, 1px, 1px);\n",
       "  height: 1px;\n",
       "  margin: -1px;\n",
       "  overflow: hidden;\n",
       "  padding: 0;\n",
       "  position: absolute;\n",
       "  width: 1px;\n",
       "}\n",
       "\n",
       "#sk-container-id-1 div.sk-dashed-wrapped {\n",
       "  border: 1px dashed var(--sklearn-color-line);\n",
       "  margin: 0 0.4em 0.5em 0.4em;\n",
       "  box-sizing: border-box;\n",
       "  padding-bottom: 0.4em;\n",
       "  background-color: var(--sklearn-color-background);\n",
       "}\n",
       "\n",
       "#sk-container-id-1 div.sk-container {\n",
       "  /* jupyter's `normalize.less` sets `[hidden] { display: none; }`\n",
       "     but bootstrap.min.css set `[hidden] { display: none !important; }`\n",
       "     so we also need the `!important` here to be able to override the\n",
       "     default hidden behavior on the sphinx rendered scikit-learn.org.\n",
       "     See: https://github.com/scikit-learn/scikit-learn/issues/21755 */\n",
       "  display: inline-block !important;\n",
       "  position: relative;\n",
       "}\n",
       "\n",
       "#sk-container-id-1 div.sk-text-repr-fallback {\n",
       "  display: none;\n",
       "}\n",
       "\n",
       "div.sk-parallel-item,\n",
       "div.sk-serial,\n",
       "div.sk-item {\n",
       "  /* draw centered vertical line to link estimators */\n",
       "  background-image: linear-gradient(var(--sklearn-color-text-on-default-background), var(--sklearn-color-text-on-default-background));\n",
       "  background-size: 2px 100%;\n",
       "  background-repeat: no-repeat;\n",
       "  background-position: center center;\n",
       "}\n",
       "\n",
       "/* Parallel-specific style estimator block */\n",
       "\n",
       "#sk-container-id-1 div.sk-parallel-item::after {\n",
       "  content: \"\";\n",
       "  width: 100%;\n",
       "  border-bottom: 2px solid var(--sklearn-color-text-on-default-background);\n",
       "  flex-grow: 1;\n",
       "}\n",
       "\n",
       "#sk-container-id-1 div.sk-parallel {\n",
       "  display: flex;\n",
       "  align-items: stretch;\n",
       "  justify-content: center;\n",
       "  background-color: var(--sklearn-color-background);\n",
       "  position: relative;\n",
       "}\n",
       "\n",
       "#sk-container-id-1 div.sk-parallel-item {\n",
       "  display: flex;\n",
       "  flex-direction: column;\n",
       "}\n",
       "\n",
       "#sk-container-id-1 div.sk-parallel-item:first-child::after {\n",
       "  align-self: flex-end;\n",
       "  width: 50%;\n",
       "}\n",
       "\n",
       "#sk-container-id-1 div.sk-parallel-item:last-child::after {\n",
       "  align-self: flex-start;\n",
       "  width: 50%;\n",
       "}\n",
       "\n",
       "#sk-container-id-1 div.sk-parallel-item:only-child::after {\n",
       "  width: 0;\n",
       "}\n",
       "\n",
       "/* Serial-specific style estimator block */\n",
       "\n",
       "#sk-container-id-1 div.sk-serial {\n",
       "  display: flex;\n",
       "  flex-direction: column;\n",
       "  align-items: center;\n",
       "  background-color: var(--sklearn-color-background);\n",
       "  padding-right: 1em;\n",
       "  padding-left: 1em;\n",
       "}\n",
       "\n",
       "\n",
       "/* Toggleable style: style used for estimator/Pipeline/ColumnTransformer box that is\n",
       "clickable and can be expanded/collapsed.\n",
       "- Pipeline and ColumnTransformer use this feature and define the default style\n",
       "- Estimators will overwrite some part of the style using the `sk-estimator` class\n",
       "*/\n",
       "\n",
       "/* Pipeline and ColumnTransformer style (default) */\n",
       "\n",
       "#sk-container-id-1 div.sk-toggleable {\n",
       "  /* Default theme specific background. It is overwritten whether we have a\n",
       "  specific estimator or a Pipeline/ColumnTransformer */\n",
       "  background-color: var(--sklearn-color-background);\n",
       "}\n",
       "\n",
       "/* Toggleable label */\n",
       "#sk-container-id-1 label.sk-toggleable__label {\n",
       "  cursor: pointer;\n",
       "  display: block;\n",
       "  width: 100%;\n",
       "  margin-bottom: 0;\n",
       "  padding: 0.5em;\n",
       "  box-sizing: border-box;\n",
       "  text-align: center;\n",
       "}\n",
       "\n",
       "#sk-container-id-1 label.sk-toggleable__label-arrow:before {\n",
       "  /* Arrow on the left of the label */\n",
       "  content: \"▸\";\n",
       "  float: left;\n",
       "  margin-right: 0.25em;\n",
       "  color: var(--sklearn-color-icon);\n",
       "}\n",
       "\n",
       "#sk-container-id-1 label.sk-toggleable__label-arrow:hover:before {\n",
       "  color: var(--sklearn-color-text);\n",
       "}\n",
       "\n",
       "/* Toggleable content - dropdown */\n",
       "\n",
       "#sk-container-id-1 div.sk-toggleable__content {\n",
       "  max-height: 0;\n",
       "  max-width: 0;\n",
       "  overflow: hidden;\n",
       "  text-align: left;\n",
       "  /* unfitted */\n",
       "  background-color: var(--sklearn-color-unfitted-level-0);\n",
       "}\n",
       "\n",
       "#sk-container-id-1 div.sk-toggleable__content.fitted {\n",
       "  /* fitted */\n",
       "  background-color: var(--sklearn-color-fitted-level-0);\n",
       "}\n",
       "\n",
       "#sk-container-id-1 div.sk-toggleable__content pre {\n",
       "  margin: 0.2em;\n",
       "  border-radius: 0.25em;\n",
       "  color: var(--sklearn-color-text);\n",
       "  /* unfitted */\n",
       "  background-color: var(--sklearn-color-unfitted-level-0);\n",
       "}\n",
       "\n",
       "#sk-container-id-1 div.sk-toggleable__content.fitted pre {\n",
       "  /* unfitted */\n",
       "  background-color: var(--sklearn-color-fitted-level-0);\n",
       "}\n",
       "\n",
       "#sk-container-id-1 input.sk-toggleable__control:checked~div.sk-toggleable__content {\n",
       "  /* Expand drop-down */\n",
       "  max-height: 200px;\n",
       "  max-width: 100%;\n",
       "  overflow: auto;\n",
       "}\n",
       "\n",
       "#sk-container-id-1 input.sk-toggleable__control:checked~label.sk-toggleable__label-arrow:before {\n",
       "  content: \"▾\";\n",
       "}\n",
       "\n",
       "/* Pipeline/ColumnTransformer-specific style */\n",
       "\n",
       "#sk-container-id-1 div.sk-label input.sk-toggleable__control:checked~label.sk-toggleable__label {\n",
       "  color: var(--sklearn-color-text);\n",
       "  background-color: var(--sklearn-color-unfitted-level-2);\n",
       "}\n",
       "\n",
       "#sk-container-id-1 div.sk-label.fitted input.sk-toggleable__control:checked~label.sk-toggleable__label {\n",
       "  background-color: var(--sklearn-color-fitted-level-2);\n",
       "}\n",
       "\n",
       "/* Estimator-specific style */\n",
       "\n",
       "/* Colorize estimator box */\n",
       "#sk-container-id-1 div.sk-estimator input.sk-toggleable__control:checked~label.sk-toggleable__label {\n",
       "  /* unfitted */\n",
       "  background-color: var(--sklearn-color-unfitted-level-2);\n",
       "}\n",
       "\n",
       "#sk-container-id-1 div.sk-estimator.fitted input.sk-toggleable__control:checked~label.sk-toggleable__label {\n",
       "  /* fitted */\n",
       "  background-color: var(--sklearn-color-fitted-level-2);\n",
       "}\n",
       "\n",
       "#sk-container-id-1 div.sk-label label.sk-toggleable__label,\n",
       "#sk-container-id-1 div.sk-label label {\n",
       "  /* The background is the default theme color */\n",
       "  color: var(--sklearn-color-text-on-default-background);\n",
       "}\n",
       "\n",
       "/* On hover, darken the color of the background */\n",
       "#sk-container-id-1 div.sk-label:hover label.sk-toggleable__label {\n",
       "  color: var(--sklearn-color-text);\n",
       "  background-color: var(--sklearn-color-unfitted-level-2);\n",
       "}\n",
       "\n",
       "/* Label box, darken color on hover, fitted */\n",
       "#sk-container-id-1 div.sk-label.fitted:hover label.sk-toggleable__label.fitted {\n",
       "  color: var(--sklearn-color-text);\n",
       "  background-color: var(--sklearn-color-fitted-level-2);\n",
       "}\n",
       "\n",
       "/* Estimator label */\n",
       "\n",
       "#sk-container-id-1 div.sk-label label {\n",
       "  font-family: monospace;\n",
       "  font-weight: bold;\n",
       "  display: inline-block;\n",
       "  line-height: 1.2em;\n",
       "}\n",
       "\n",
       "#sk-container-id-1 div.sk-label-container {\n",
       "  text-align: center;\n",
       "}\n",
       "\n",
       "/* Estimator-specific */\n",
       "#sk-container-id-1 div.sk-estimator {\n",
       "  font-family: monospace;\n",
       "  border: 1px dotted var(--sklearn-color-border-box);\n",
       "  border-radius: 0.25em;\n",
       "  box-sizing: border-box;\n",
       "  margin-bottom: 0.5em;\n",
       "  /* unfitted */\n",
       "  background-color: var(--sklearn-color-unfitted-level-0);\n",
       "}\n",
       "\n",
       "#sk-container-id-1 div.sk-estimator.fitted {\n",
       "  /* fitted */\n",
       "  background-color: var(--sklearn-color-fitted-level-0);\n",
       "}\n",
       "\n",
       "/* on hover */\n",
       "#sk-container-id-1 div.sk-estimator:hover {\n",
       "  /* unfitted */\n",
       "  background-color: var(--sklearn-color-unfitted-level-2);\n",
       "}\n",
       "\n",
       "#sk-container-id-1 div.sk-estimator.fitted:hover {\n",
       "  /* fitted */\n",
       "  background-color: var(--sklearn-color-fitted-level-2);\n",
       "}\n",
       "\n",
       "/* Specification for estimator info (e.g. \"i\" and \"?\") */\n",
       "\n",
       "/* Common style for \"i\" and \"?\" */\n",
       "\n",
       ".sk-estimator-doc-link,\n",
       "a:link.sk-estimator-doc-link,\n",
       "a:visited.sk-estimator-doc-link {\n",
       "  float: right;\n",
       "  font-size: smaller;\n",
       "  line-height: 1em;\n",
       "  font-family: monospace;\n",
       "  background-color: var(--sklearn-color-background);\n",
       "  border-radius: 1em;\n",
       "  height: 1em;\n",
       "  width: 1em;\n",
       "  text-decoration: none !important;\n",
       "  margin-left: 1ex;\n",
       "  /* unfitted */\n",
       "  border: var(--sklearn-color-unfitted-level-1) 1pt solid;\n",
       "  color: var(--sklearn-color-unfitted-level-1);\n",
       "}\n",
       "\n",
       ".sk-estimator-doc-link.fitted,\n",
       "a:link.sk-estimator-doc-link.fitted,\n",
       "a:visited.sk-estimator-doc-link.fitted {\n",
       "  /* fitted */\n",
       "  border: var(--sklearn-color-fitted-level-1) 1pt solid;\n",
       "  color: var(--sklearn-color-fitted-level-1);\n",
       "}\n",
       "\n",
       "/* On hover */\n",
       "div.sk-estimator:hover .sk-estimator-doc-link:hover,\n",
       ".sk-estimator-doc-link:hover,\n",
       "div.sk-label-container:hover .sk-estimator-doc-link:hover,\n",
       ".sk-estimator-doc-link:hover {\n",
       "  /* unfitted */\n",
       "  background-color: var(--sklearn-color-unfitted-level-3);\n",
       "  color: var(--sklearn-color-background);\n",
       "  text-decoration: none;\n",
       "}\n",
       "\n",
       "div.sk-estimator.fitted:hover .sk-estimator-doc-link.fitted:hover,\n",
       ".sk-estimator-doc-link.fitted:hover,\n",
       "div.sk-label-container:hover .sk-estimator-doc-link.fitted:hover,\n",
       ".sk-estimator-doc-link.fitted:hover {\n",
       "  /* fitted */\n",
       "  background-color: var(--sklearn-color-fitted-level-3);\n",
       "  color: var(--sklearn-color-background);\n",
       "  text-decoration: none;\n",
       "}\n",
       "\n",
       "/* Span, style for the box shown on hovering the info icon */\n",
       ".sk-estimator-doc-link span {\n",
       "  display: none;\n",
       "  z-index: 9999;\n",
       "  position: relative;\n",
       "  font-weight: normal;\n",
       "  right: .2ex;\n",
       "  padding: .5ex;\n",
       "  margin: .5ex;\n",
       "  width: min-content;\n",
       "  min-width: 20ex;\n",
       "  max-width: 50ex;\n",
       "  color: var(--sklearn-color-text);\n",
       "  box-shadow: 2pt 2pt 4pt #999;\n",
       "  /* unfitted */\n",
       "  background: var(--sklearn-color-unfitted-level-0);\n",
       "  border: .5pt solid var(--sklearn-color-unfitted-level-3);\n",
       "}\n",
       "\n",
       ".sk-estimator-doc-link.fitted span {\n",
       "  /* fitted */\n",
       "  background: var(--sklearn-color-fitted-level-0);\n",
       "  border: var(--sklearn-color-fitted-level-3);\n",
       "}\n",
       "\n",
       ".sk-estimator-doc-link:hover span {\n",
       "  display: block;\n",
       "}\n",
       "\n",
       "/* \"?\"-specific style due to the `<a>` HTML tag */\n",
       "\n",
       "#sk-container-id-1 a.estimator_doc_link {\n",
       "  float: right;\n",
       "  font-size: 1rem;\n",
       "  line-height: 1em;\n",
       "  font-family: monospace;\n",
       "  background-color: var(--sklearn-color-background);\n",
       "  border-radius: 1rem;\n",
       "  height: 1rem;\n",
       "  width: 1rem;\n",
       "  text-decoration: none;\n",
       "  /* unfitted */\n",
       "  color: var(--sklearn-color-unfitted-level-1);\n",
       "  border: var(--sklearn-color-unfitted-level-1) 1pt solid;\n",
       "}\n",
       "\n",
       "#sk-container-id-1 a.estimator_doc_link.fitted {\n",
       "  /* fitted */\n",
       "  border: var(--sklearn-color-fitted-level-1) 1pt solid;\n",
       "  color: var(--sklearn-color-fitted-level-1);\n",
       "}\n",
       "\n",
       "/* On hover */\n",
       "#sk-container-id-1 a.estimator_doc_link:hover {\n",
       "  /* unfitted */\n",
       "  background-color: var(--sklearn-color-unfitted-level-3);\n",
       "  color: var(--sklearn-color-background);\n",
       "  text-decoration: none;\n",
       "}\n",
       "\n",
       "#sk-container-id-1 a.estimator_doc_link.fitted:hover {\n",
       "  /* fitted */\n",
       "  background-color: var(--sklearn-color-fitted-level-3);\n",
       "}\n",
       "</style><div id=\"sk-container-id-1\" class=\"sk-top-container\"><div class=\"sk-text-repr-fallback\"><pre>LinearRegression()</pre><b>In a Jupyter environment, please rerun this cell to show the HTML representation or trust the notebook. <br />On GitHub, the HTML representation is unable to render, please try loading this page with nbviewer.org.</b></div><div class=\"sk-container\" hidden><div class=\"sk-item\"><div class=\"sk-estimator fitted sk-toggleable\"><input class=\"sk-toggleable__control sk-hidden--visually\" id=\"sk-estimator-id-1\" type=\"checkbox\" checked><label for=\"sk-estimator-id-1\" class=\"sk-toggleable__label fitted sk-toggleable__label-arrow fitted\">&nbsp;&nbsp;LinearRegression<a class=\"sk-estimator-doc-link fitted\" rel=\"noreferrer\" target=\"_blank\" href=\"https://scikit-learn.org/1.5/modules/generated/sklearn.linear_model.LinearRegression.html\">?<span>Documentation for LinearRegression</span></a><span class=\"sk-estimator-doc-link fitted\">i<span>Fitted</span></span></label><div class=\"sk-toggleable__content fitted\"><pre>LinearRegression()</pre></div> </div></div></div></div>"
      ],
      "text/plain": [
       "LinearRegression()"
      ]
     },
     "execution_count": 30,
     "metadata": {},
     "output_type": "execute_result"
    }
   ],
   "source": [
    "multiple_regressor = linear_model.LinearRegression()\n",
    "multiple_regressor.fit(Advertising.loc[:,['TV', 'radio', 'newspaper']], Advertising.loc[:,'sales'])                                                          "
   ]
  },
  {
   "cell_type": "code",
   "execution_count": 33,
   "id": "65031718-4aa4-48dc-8edd-f6e2ffddc6ac",
   "metadata": {},
   "outputs": [
    {
     "data": {
      "text/plain": [
       "array([ 0.04576465,  0.18853002, -0.00103749])"
      ]
     },
     "execution_count": 33,
     "metadata": {},
     "output_type": "execute_result"
    }
   ],
   "source": [
    "multiple_regressor.coef_"
   ]
  },
  {
   "cell_type": "code",
   "execution_count": 34,
   "id": "c89312e3-ebf5-4809-bc64-a49b5f5a6556",
   "metadata": {},
   "outputs": [
    {
     "data": {
      "text/plain": [
       "np.float64(2.938889369459412)"
      ]
     },
     "execution_count": 34,
     "metadata": {},
     "output_type": "execute_result"
    }
   ],
   "source": [
    "multiple_regressor.intercept_"
   ]
  },
  {
   "cell_type": "code",
   "execution_count": 37,
   "id": "f4d23fea-eb32-4211-abf7-1500321fd621",
   "metadata": {},
   "outputs": [
    {
     "data": {
      "text/plain": [
       "(array(['TV', 'radio', 'newspaper'], dtype=object),\n",
       " array([ 0.04576465,  0.18853002, -0.00103749]))"
      ]
     },
     "execution_count": 37,
     "metadata": {},
     "output_type": "execute_result"
    }
   ],
   "source": [
    "(multiple_regressor.feature_names_in_,multiple_regressor.coef_)"
   ]
  },
  {
   "cell_type": "code",
   "execution_count": null,
   "id": "44a69208-7a43-426d-a921-939c192b60aa",
   "metadata": {},
   "outputs": [],
   "source": []
  }
 ],
 "metadata": {
  "kernelspec": {
   "display_name": "Python 3 (ipykernel)",
   "language": "python",
   "name": "python3"
  },
  "language_info": {
   "codemirror_mode": {
    "name": "ipython",
    "version": 3
   },
   "file_extension": ".py",
   "mimetype": "text/x-python",
   "name": "python",
   "nbconvert_exporter": "python",
   "pygments_lexer": "ipython3",
   "version": "3.12.5"
  }
 },
 "nbformat": 4,
 "nbformat_minor": 5
}
